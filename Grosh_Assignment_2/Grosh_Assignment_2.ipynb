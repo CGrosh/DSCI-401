{
 "cells": [
  {
   "cell_type": "markdown",
   "metadata": {},
   "source": [
    "# Assignment 2: Regression Modeling and Prediction "
   ]
  },
  {
   "cell_type": "markdown",
   "metadata": {},
   "source": [
    "## Exploratory Analysis and Plots "
   ]
  },
  {
   "cell_type": "code",
   "execution_count": 328,
   "metadata": {},
   "outputs": [
    {
     "data": {
      "image/png": "[encoded data removed]",
      "text/plain": [
       "<Figure size 432x288 with 1 Axes>"
      ]
     },
     "metadata": {},
     "output_type": "display_data"
    },
    {
     "name": "stdout",
     "output_type": "stream",
     "text": [
      "Sale.Condition\n",
      "Abnorml    142501.932099\n",
      "AdjLand    113300.000000\n",
      "Alloca     162899.850000\n",
      "Family     162082.857143\n",
      "Normal     174771.834982\n",
      "Partial    276710.954082\n",
      "Name: SalePrice, dtype: float64\n"
     ]
    }
   ],
   "source": [
    "# Import the necesary libraries \n",
    "import pandas as pd \n",
    "import numpy as np \n",
    "import matplotlib.pyplot as plt\n",
    "import seaborn as sns \n",
    "from sklearn import linear_model\n",
    "from sklearn.model_selection import train_test_split\n",
    "from sklearn.metrics import mean_squared_error\n",
    "from sklearn.metrics import median_absolute_error\n",
    "from sklearn.metrics import r2_score\n",
    "from sklearn.metrics import explained_variance_score\n",
    "from sklearn.preprocessing import PolynomialFeatures\n",
    "from sklearn.feature_selection import f_regression\n",
    "from sklearn.feature_selection import SelectPercentile\n",
    "from sklearn.feature_selection import SelectKBest\n",
    "from sklearn.feature_selection import  RFECV\n",
    "import functools \n",
    "from util import *\n",
    "from sklearn import preprocessing \n",
    "from sklearn.preprocessing import StandardScaler\n",
    "\n",
    "\n",
    "# Read in the training data \n",
    "df = pd.read_csv('Datasets/AmesHousingSetA.csv')\n",
    "\n",
    "# Manually Encode the Central Air Feature \n",
    "df['Central.Air'] = df['Central.Air'].replace(to_replace='Y', value=1)\n",
    "df['Central.Air'] = df['Central.Air'].replace(to_replace='N', value=0)\n",
    "\n",
    "# Get Rid of Features that had a significant amount of null values \n",
    "del df['Alley']\n",
    "del df['Pool.QC']\n",
    "del df['Misc.Feature']\n",
    "del df['Fireplace.Qu']\n",
    "del df['Fence']\n",
    "\n",
    "# PID is an ID column so it doed not make sense that it would have any effect on the SalePrice\n",
    "# This can be seen in the scatter plot, there is no relationship between Sale Price and PID \n",
    "df.plot(kind='scatter', x='SalePrice', y= 'Lot.Area')\n",
    "plt.show()\n",
    "del df['PID']\n",
    "\n",
    "# Grouping Sale.Condition and Sale Price to see which kind of Sale.Condition\n",
    "# Has the higher average price \n",
    "print(df.groupby('Sale.Condition')['SalePrice'].mean())\n",
    "\n",
    "# Call the cat_features function and make a list of all the Non-Numeric Features \n",
    "x = list(cat_features(df))"
   ]
  },
  {
   "cell_type": "markdown",
   "metadata": {},
   "source": [
    "## Construct a Preprocessing Pipeline and One-Hot Encode the Data "
   ]
  },
  {
   "cell_type": "code",
   "execution_count": 329,
   "metadata": {},
   "outputs": [],
   "source": [
    "# Declare the Imputation to Fill in the NaN values with the median \n",
    "imp = preprocessing.Imputer(missing_values = 'NaN', strategy='mean', axis=0)\n",
    "\n",
    "# Declare the Scaler to Standardize the columns with their z-scores \n",
    "scaler = preprocessing.StandardScaler()\n",
    "\n",
    "# One Hot Encode the Categorical Columns \n",
    "df_dum = pd.get_dummies(df, columns = x)\n",
    "\n",
    "# Segment the Independent and Dependent Variables \n",
    "base_data_x = df_dum.loc[:, df_dum.columns != 'SalePrice']\n",
    "base_data_y = df_dum['SalePrice']\n",
    "\n",
    "# Split into Training and Testing Set \n",
    "x_train, x_test, y_train, y_test = train_test_split(base_data_x, base_data_y, test_size=0.2, random_state = 4)\n",
    "\n",
    "# Pass the Training Independent Variables through the Preprocessin Pipeline \n",
    "train_x_pp = imp.fit_transform(x_train)\n",
    "train_x_pp = scaler.fit_transform(train_x_pp)\n"
   ]
  },
  {
   "cell_type": "markdown",
   "metadata": {},
   "source": [
    "## Fit the Data on the Base model: A Simple Linear Regression Model "
   ]
  },
  {
   "cell_type": "code",
   "execution_count": 330,
   "metadata": {},
   "outputs": [
    {
     "name": "stdout",
     "output_type": "stream",
     "text": [
      "MSE, MAE, R^2, EVS: [5.516768280330365e+32, 1907552652192646.2, -8.138226733864242e+22, -8.138226733864244e+22]\n"
     ]
    }
   ],
   "source": [
    "# Declare the Base Linear Model and fit on the Training Data \n",
    "base_model = linear_model.LinearRegression()\n",
    "base_model.fit(train_x_pp, y_train)\n",
    "\n",
    "# Run the Testing data through the Preprocessing Pipeline\n",
    "test_x_pp = imp.fit_transform(x_test)\n",
    "test_x_pp = scaler.fit_transform(test_x_pp)\n",
    "\n",
    "# Make Predictions on the testing data \n",
    "base_preds = base_model.predict(test_x_pp)\n",
    "\n",
    "print('MSE, MAE, R^2, EVS: ' + str([mean_squared_error(y_test, base_preds),\n",
    "                                    median_absolute_error(y_test, base_preds),\n",
    "                                    r2_score(y_test, base_preds),\n",
    "                                    explained_variance_score(y_test, base_preds)]))\n"
   ]
  },
  {
   "cell_type": "markdown",
   "metadata": {},
   "source": [
    "## Build the Best Model: Start with Feature Selection "
   ]
  },
  {
   "cell_type": "code",
   "execution_count": 331,
   "metadata": {},
   "outputs": [
    {
     "name": "stderr",
     "output_type": "stream",
     "text": [
      "/Users/ColinG/anaconda3/lib/python3.6/site-packages/sklearn/feature_selection/univariate_selection.py:298: RuntimeWarning: invalid value encountered in true_divide\n",
      "  corr /= X_norms\n",
      "/Users/ColinG/anaconda3/lib/python3.6/site-packages/scipy/stats/_distn_infrastructure.py:879: RuntimeWarning: invalid value encountered in greater\n",
      "  return (self.a < x) & (x < self.b)\n",
      "/Users/ColinG/anaconda3/lib/python3.6/site-packages/scipy/stats/_distn_infrastructure.py:879: RuntimeWarning: invalid value encountered in less\n",
      "  return (self.a < x) & (x < self.b)\n",
      "/Users/ColinG/anaconda3/lib/python3.6/site-packages/scipy/stats/_distn_infrastructure.py:1818: RuntimeWarning: invalid value encountered in less_equal\n",
      "  cond2 = cond0 & (x <= self.a)\n"
     ]
    }
   ],
   "source": [
    "# Construct a Dictionary to store the F test P-Value for each coulmn \n",
    "feat_val = {}\n",
    "selector_f = SelectPercentile(f_regression, percentile=25)\n",
    "selector_f.fit(train_x_pp, y_train)\n",
    "for name, score, pv in zip(list(df_dum), selector_f.scores_, selector_f.pvalues_):\n",
    "    feat_val[name] = pv"
   ]
  },
  {
   "cell_type": "code",
   "execution_count": 332,
   "metadata": {},
   "outputs": [],
   "source": [
    "# Take all the features that have a p-value of 0.04 or less \n",
    "FeatSel = ['SalePrice']\n",
    "for i in feat_val:\n",
    "    if feat_val[i] < 0.04:\n",
    "        FeatSel.append(i)\n",
    "\n",
    "# New Dataframe with the specially selected Features \n",
    "FeatSel_df = df_dum[FeatSel]\n",
    "\n",
    "# Segment the Independent and Dependent Variables \n",
    "data_x = FeatSel_df.loc[:, FeatSel_df.columns != 'SalePrice']\n",
    "data_y = FeatSel_df['SalePrice']\n",
    "\n",
    "# Split into Training and Testing Set \n",
    "x_train, x_test, y_train, y_test = train_test_split(data_x, data_y, test_size=0.2, random_state = 4)\n",
    "\n",
    "# Pass the Training Independent Variables through the Preprocessing Pipeline \n",
    "train_x_pp = imp.fit_transform(x_train)\n",
    "train_x_pp = scaler.fit_transform(train_x_pp)\n"
   ]
  },
  {
   "cell_type": "code",
   "execution_count": 333,
   "metadata": {},
   "outputs": [],
   "source": [
    "test_x_pp = imp.fit_transform(x_test)\n",
    "test_x_pp = scaler.fit_transform(test_x_pp)"
   ]
  },
  {
   "cell_type": "markdown",
   "metadata": {},
   "source": [
    "## Test a Couple Different Models to see what fits best "
   ]
  },
  {
   "cell_type": "code",
   "execution_count": 334,
   "metadata": {},
   "outputs": [
    {
     "name": "stderr",
     "output_type": "stream",
     "text": [
      "/Users/ColinG/anaconda3/lib/python3.6/site-packages/sklearn/linear_model/coordinate_descent.py:491: ConvergenceWarning: Objective did not converge. You might want to increase the number of iterations. Fitting data with very small alpha may cause precision problems.\n",
      "  ConvergenceWarning)\n"
     ]
    },
    {
     "name": "stdout",
     "output_type": "stream",
     "text": [
      "The R^2 for the Lasso Model is: 0.9018243236257353\n",
      "The R^2 for the Ridge Model is: 0.901331714541974\n",
      "The R^2 for the Quadratic Model is: -117198752739959.61\n"
     ]
    }
   ],
   "source": [
    "# Lasso Regression Model \n",
    "Lasso_test = linear_model.Lasso(alpha=0.5, normalize = True)\n",
    "Lasso_test.fit(train_x_pp, y_train)\n",
    "Lasso_preds = Lasso_test.predict(test_x_pp)\n",
    "\n",
    "# Ridge Regression Model \n",
    "Ridge_test = linear_model.Ridge(alpha = 0.5)\n",
    "Ridge_test.fit(train_x_pp, y_train)\n",
    "Ridge_preds = Ridge_test.predict(test_x_pp)\n",
    "\n",
    "# Quadratic Regression Model \n",
    "Quad_test = PolynomialFeatures(degree=2)\n",
    "Quad_Data_x_train = Quad_test.fit_transform(train_x_pp)\n",
    "Quad_Data_x_test = Quad_test.fit_transform(test_x_pp)\n",
    "Quad_mod = linear_model.LinearRegression()\n",
    "Quad_mod.fit(Quad_Data_x_train, y_train)\n",
    "quad_preds = Quad_mod.predict(Quad_Data_x_test)\n",
    "\n",
    "print(\"The R^2 for the Lasso Model is: \" + str(r2_score(y_test, Lasso_preds)))\n",
    "print('The R^2 for the Ridge Model is: ' + str(r2_score(y_test, Ridge_preds)))\n",
    "print(\"The R^2 for the Quadratic Model is: \" + str(r2_score(y_test, quad_preds)))"
   ]
  },
  {
   "cell_type": "markdown",
   "metadata": {},
   "source": [
    "## Test Different Alpha Levels for the Lasso Model "
   ]
  },
  {
   "cell_type": "code",
   "execution_count": 335,
   "metadata": {},
   "outputs": [
    {
     "name": "stderr",
     "output_type": "stream",
     "text": [
      "/Users/ColinG/anaconda3/lib/python3.6/site-packages/ipykernel_launcher.py:7: UserWarning: With alpha=0, this algorithm does not converge well. You are advised to use the LinearRegression estimator\n",
      "  import sys\n",
      "/Users/ColinG/anaconda3/lib/python3.6/site-packages/sklearn/linear_model/coordinate_descent.py:477: UserWarning: Coordinate descent with no regularization may lead to unexpected results and is discouraged.\n",
      "  positive)\n",
      "/Users/ColinG/anaconda3/lib/python3.6/site-packages/sklearn/linear_model/coordinate_descent.py:491: ConvergenceWarning: Objective did not converge. You might want to increase the number of iterations. Fitting data with very small alpha may cause precision problems.\n",
      "  ConvergenceWarning)\n"
     ]
    },
    {
     "name": "stdout",
     "output_type": "stream",
     "text": [
      "R^2 (Lasso model with alpha =0.0):0.9008271357206838\n",
      "R^2 (Lasso model with alpha =0.001):0.9008298406250516\n",
      "R^2 (Lasso model with alpha =0.01):0.9008515372781289\n",
      "R^2 (Lasso model with alpha =0.1):0.9011066267259815\n",
      "R^2 (Lasso model with alpha =0.25):0.9014188184317952\n",
      "R^2 (Lasso model with alpha =0.5):0.9018243236257353\n",
      "R^2 (Lasso model with alpha =1.0):0.902349224190156\n",
      "R^2 (Lasso model with alpha =2.5):0.9032311053170106\n",
      "R^2 (Lasso model with alpha =5.0):0.9029248838948771\n"
     ]
    }
   ],
   "source": [
    "# List of different possible alpha levels for the Ridge Regression \n",
    "alphas = [0.0, 0.001, 0.01, 0.1, 0.25, 0.5, 1.0, 2.5, 5.0]\n",
    "\n",
    "# Loop through the alphas and build  Lasso Model with each and Check the R^2\n",
    "for alpha in alphas: \n",
    "    model = linear_model.Lasso(alpha = alpha, normalize=True)\n",
    "    model.fit(train_x_pp, y_train)\n",
    "    preds = model.predict(test_x_pp)\n",
    "    print('R^2 (Lasso model with alpha =' + str(alpha) + '):' + str(r2_score(y_test, preds)))\n"
   ]
  },
  {
   "cell_type": "markdown",
   "metadata": {},
   "source": [
    "## Use the specially selected features and the best alpha level to build that Best Model "
   ]
  },
  {
   "cell_type": "code",
   "execution_count": 336,
   "metadata": {},
   "outputs": [
    {
     "name": "stdout",
     "output_type": "stream",
     "text": [
      "R^2 for Best model: 0.9032311053170106\n"
     ]
    }
   ],
   "source": [
    "# Based on the tested alpha levels we can see that the R^2 begins to drop off at around 2.5 \n",
    "\n",
    "# Build the Best Lasso Model using alpha of 2.5 \n",
    "best_model = linear_model.Lasso(alpha = 2.5, normalize=True)\n",
    "\n",
    "# Fit it with the preprocessed testing data \n",
    "best_model.fit(train_x_pp,  y_train)\n",
    "\n",
    "# Make predictions using the preprocesed testing data \n",
    "best_preds = best_model.predict(test_x_pp)\n",
    "\n",
    "# R^2 value for the Best model on the Testing set \n",
    "print(\"R^2 for Best model: \" + str(r2_score(y_test, best_preds)))\n"
   ]
  },
  {
   "cell_type": "markdown",
   "metadata": {},
   "source": [
    "## Read in the B Dataset and perform the Necesary transformations "
   ]
  },
  {
   "cell_type": "code",
   "execution_count": 337,
   "metadata": {},
   "outputs": [],
   "source": [
    "# Read in the data from the B Set \n",
    "df_b = pd.read_csv('Datasets/AmesHousingSetB.csv')\n",
    "df_b['Central.Air'] = df_b['Central.Air'].replace(to_replace='Y', value=1)\n",
    "df_b['Central.Air'] = df_b['Central.Air'].replace(to_replace='N', value=0)\n",
    "\n",
    "# Get Rid of Features that had a significant amount of null values or were insignificant \n",
    "del df_b['Alley']\n",
    "del df_b['Pool.QC']\n",
    "del df_b['Misc.Feature']\n",
    "del df_b['Fireplace.Qu']\n",
    "del df_b['Fence']\n",
    "del df_b['PID']\n",
    "\n",
    "# List of the Categorical Features \n",
    "x_b = list(cat_features(df_b))"
   ]
  },
  {
   "cell_type": "markdown",
   "metadata": {},
   "source": [
    "## Test the Base and Best Models with the Transformed Data from Dataset B "
   ]
  },
  {
   "cell_type": "code",
   "execution_count": 338,
   "metadata": {},
   "outputs": [
    {
     "name": "stdout",
     "output_type": "stream",
     "text": [
      "R^2 for the Base model on the B Dataset is: -7.212398132165294e+23\n"
     ]
    }
   ],
   "source": [
    "# One Hot encode the B Dataset \n",
    "df_dum_b = pd.get_dummies(df_b, columns = x_b)\n",
    "\n",
    "# Loop Through and check what columns are in B but not in A, and then delete them \n",
    "for i in df_dum_b.columns:\n",
    "    if i not in df_dum.columns:\n",
    "        del df_dum_b[i]\n",
    "        \n",
    "# Loop through and check what columns are in A but not in B, and then add them \n",
    "for i in df_dum.columns:\n",
    "    if i not in df_dum_b.columns:\n",
    "        df_dum_b[i] = pd.Series(np.zeros(len(df_dum_b)))\n",
    "\n",
    "# Segment the data \n",
    "dataB_x = df_dum_b.loc[:, df_dum_b.columns != 'SalePrice']\n",
    "dataB_y = df_dum_b['SalePrice']\n",
    "\n",
    "\n",
    "# Pass the Independent Variables through the Preprocessin Pipeline \n",
    "dataB_x_pp = imp.fit_transform(dataB_x)\n",
    "dataB_x_pp = scaler.fit_transform(dataB_x_pp)\n",
    "\n",
    "# Make the predictions on the data \n",
    "B_base_preds = base_model.predict(dataB_x_pp)\n",
    "\n",
    "# Compute the R^2 of the model \n",
    "print(\"R^2 for the Base model on the B Dataset is: \" + str(r2_score(dataB_y, B_base_preds)))"
   ]
  },
  {
   "cell_type": "code",
   "execution_count": 339,
   "metadata": {},
   "outputs": [
    {
     "name": "stdout",
     "output_type": "stream",
     "text": [
      "R^2 for the Best Model on the B Dataset is: 0.9130786140451412\n"
     ]
    }
   ],
   "source": [
    "# Segment the Feature Selected Data for Best Model \n",
    "dataB_best = df_dum_b[FeatSel]\n",
    "\n",
    "# Seperate into X and Y \n",
    "dataB_x_best = dataB_best.loc[:, dataB_best.columns != 'SalePrice']\n",
    "dataB_y_best = dataB_best['SalePrice']\n",
    "\n",
    "# Send the data through the Preproccesing Pipeline \n",
    "dataB_x_best_pp = imp.fit_transform(dataB_x_best)\n",
    "dataB_x_best_pp = scaler.fit_transform(dataB_x_best_pp)\n",
    "\n",
    "# Make Predictions on the B Dataset \n",
    "best_preds_B = best_model.predict(dataB_x_best_pp)\n",
    "\n",
    "# Print the R^2 for the data \n",
    "print(\"R^2 for the Best Model on the B Dataset is: \" + str(r2_score(best_preds_B, dataB_y_best)))"
   ]
  },
  {
   "cell_type": "markdown",
   "metadata": {},
   "source": [
    "# I. Data Preparation Questions "
   ]
  },
  {
   "cell_type": "markdown",
   "metadata": {},
   "source": [
    "## 1) \n",
    "\n",
    "## To transform the data, I one hot encoded all the categorical columns. For the Central.Air column, I manually changed the values from \"Y\" to 1, and from \"N\" to 0. This one-hot encoding made the 81 column data frame a 300 column dataframe.  "
   ]
  },
  {
   "cell_type": "markdown",
   "metadata": {},
   "source": [
    "# II. Exploratory Analysis Questions "
   ]
  },
  {
   "cell_type": "markdown",
   "metadata": {},
   "source": [
    "## 1) \n",
    "\n",
    "## When looking at the data, there were a few columns that had a significant amount of NaN values. For examples    only had 9 non-NaN values. For this column and the 4 other columns similar to it I removed them, as they would not be good predictors due to having barely any data. \n",
    "\n",
    "## Also, I removed the PID column because it was simply an ID column. It is a unqiue value for each of the rows that has no bearing on the SalePrice. I checked this with a scatter plot on sale price and it as expected showed no relationship. "
   ]
  },
  {
   "cell_type": "markdown",
   "metadata": {},
   "source": [
    "## 2) \n",
    "\n",
    "## I expected fr Lot.Area to have a positive effect on Sale Price. I was surprised when looking at the scatter plot and seeing what looked like not correlation at all. "
   ]
  },
  {
   "cell_type": "markdown",
   "metadata": {},
   "source": [
    "# III. Model Building Questions "
   ]
  },
  {
   "cell_type": "markdown",
   "metadata": {},
   "source": [
    "## 1) \n",
    "\n",
    "## To arrive at my most accurate model, I used  Lasso Regression Model. I had learned in my DATA 419 class that Lasso was on average the most accurate when compare to basic linear and ridge regression so I decided to test with Lasso first. To confirm this, built 3 models to test, a Lasso Model, a Ridge model, and a Quadratic model. \n",
    "\n",
    "## After fitting and predicting with each of these models, the R^2 for the Lasso and Ridge regression models were very close, with the Lasso being higher by about a percent. The Quadratic was a very poor fit so that was ignored. \n",
    "\n",
    "## Finally, I featured selcted by running an F-Test on every explanatory column and then only including the columns that had a p-value of 0.04 or less. This allowed me to get rid of columns not as important and keep the ones with real signifigance in the model. "
   ]
  },
  {
   "cell_type": "markdown",
   "metadata": {},
   "source": [
    "## 2) \n",
    "\n",
    "## The Primary error metrics used to evaluate the Base and Best model was the R^2 value. The R^2 for the base Linear model was incredibly small, at about , meanwhile with the Best model the R^2 sat right around 90%. "
   ]
  },
  {
   "cell_type": "markdown",
   "metadata": {},
   "source": [
    "# IV. Predicting and Validating Questions "
   ]
  },
  {
   "cell_type": "markdown",
   "metadata": {},
   "source": [
    "## 1) \n",
    "\n",
    "## My Best Model once again greatly outscored my baseline model on the B dataset. The Base model had a -7.212 x 10^23 R^2. The Best model had a very accuracte R^2 of 0.913. "
   ]
  },
  {
   "cell_type": "markdown",
   "metadata": {},
   "source": [
    "## 2) \n",
    "\n",
    "## The Best Model is a very good model, however it does require a decent amount of transformation of the data, and ignores certain columns that originally had too many null values. Therefore new with less null values could effect the accuracy of the model. \n",
    "\n",
    "## Another issue with the model is probably with misunderstanding the column names. It was difficult to understand what some of the columns actually represented, so therefore some untrue assumptions could have been made that would influence feature selection. "
   ]
  },
  {
   "cell_type": "code",
   "execution_count": null,
   "metadata": {
    "collapsed": true
   },
   "outputs": [],
   "source": []
  }
 ],
 "metadata": {
  "kernelspec": {
   "display_name": "Python 3",
   "language": "python",
   "name": "python3"
  },
  "language_info": {
   "codemirror_mode": {
    "name": "ipython",
    "version": 3
   },
   "file_extension": ".py",
   "mimetype": "text/x-python",
   "name": "python",
   "nbconvert_exporter": "python",
   "pygments_lexer": "ipython3",
   "version": "3.6.3"
  }
 },
 "nbformat": 4,
 "nbformat_minor": 2
}
